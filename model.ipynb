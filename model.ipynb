{
 "cells": [
  {
   "cell_type": "code",
   "execution_count": 16,
   "metadata": {},
   "outputs": [],
   "source": [
    "import pandas as pd\n",
    "from sklearn.model_selection import train_test_split\n",
    "from sklearn.linear_model import LogisticRegression\n",
    "from sklearn.svm import SVC\n",
    "from sklearn.ensemble import GradientBoostingClassifier\n",
    "from sklearn.neighbors import KNeighborsClassifier\n",
    "from sklearn.naive_bayes import GaussianNB\n",
    "from sklearn.ensemble import RandomForestClassifier\n",
    "from sklearn.metrics import classification_report, confusion_matrix\n",
    "from imblearn.over_sampling import SMOTE\n",
    "from imblearn.pipeline import Pipeline\n",
    "from sklearn.preprocessing import StandardScaler"
   ]
  },
  {
   "cell_type": "code",
   "execution_count": 17,
   "metadata": {},
   "outputs": [
    {
     "data": {
      "text/html": [
       "<div>\n",
       "<style scoped>\n",
       "    .dataframe tbody tr th:only-of-type {\n",
       "        vertical-align: middle;\n",
       "    }\n",
       "\n",
       "    .dataframe tbody tr th {\n",
       "        vertical-align: top;\n",
       "    }\n",
       "\n",
       "    .dataframe thead th {\n",
       "        text-align: right;\n",
       "    }\n",
       "</style>\n",
       "<table border=\"1\" class=\"dataframe\">\n",
       "  <thead>\n",
       "    <tr style=\"text-align: right;\">\n",
       "      <th></th>\n",
       "      <th>ip_src</th>\n",
       "      <th>ip_dst</th>\n",
       "      <th>port_src</th>\n",
       "      <th>port_dst</th>\n",
       "      <th>proto</th>\n",
       "      <th>start_time</th>\n",
       "      <th>end_time</th>\n",
       "      <th>mean_IAT</th>\n",
       "      <th>total_bytes</th>\n",
       "      <th>mean_ACK</th>\n",
       "      <th>...</th>\n",
       "      <th>mean_PSH</th>\n",
       "      <th>mean_RST</th>\n",
       "      <th>mean_SYN</th>\n",
       "      <th>mean_URG</th>\n",
       "      <th>mean_bck_header_len</th>\n",
       "      <th>mean_fwd_header_len</th>\n",
       "      <th>packet_count</th>\n",
       "      <th>duration</th>\n",
       "      <th>Anomaly</th>\n",
       "      <th>Label</th>\n",
       "    </tr>\n",
       "  </thead>\n",
       "  <tbody>\n",
       "    <tr>\n",
       "      <th>0</th>\n",
       "      <td>192.168.1.10</td>\n",
       "      <td>192.168.1.20</td>\n",
       "      <td>5222</td>\n",
       "      <td>5222</td>\n",
       "      <td>0x6</td>\n",
       "      <td>2024-07-21 16:10:06</td>\n",
       "      <td>2024-07-21 16:43:46</td>\n",
       "      <td>1.132922</td>\n",
       "      <td>513900</td>\n",
       "      <td>1.00</td>\n",
       "      <td>...</td>\n",
       "      <td>0.299888</td>\n",
       "      <td>0.0</td>\n",
       "      <td>0.208520</td>\n",
       "      <td>0</td>\n",
       "      <td>20</td>\n",
       "      <td>33.668161</td>\n",
       "      <td>1784</td>\n",
       "      <td>2020</td>\n",
       "      <td>0</td>\n",
       "      <td>Normal</td>\n",
       "    </tr>\n",
       "    <tr>\n",
       "      <th>1</th>\n",
       "      <td>192.168.1.10</td>\n",
       "      <td>192.168.1.30</td>\n",
       "      <td>5222</td>\n",
       "      <td>5222</td>\n",
       "      <td>0x6</td>\n",
       "      <td>2024-07-21 16:10:02</td>\n",
       "      <td>2024-07-21 16:43:49</td>\n",
       "      <td>1.110077</td>\n",
       "      <td>518530</td>\n",
       "      <td>1.00</td>\n",
       "      <td>...</td>\n",
       "      <td>0.287356</td>\n",
       "      <td>0.0</td>\n",
       "      <td>0.205255</td>\n",
       "      <td>0</td>\n",
       "      <td>20</td>\n",
       "      <td>33.642036</td>\n",
       "      <td>1827</td>\n",
       "      <td>2027</td>\n",
       "      <td>0</td>\n",
       "      <td>Normal</td>\n",
       "    </tr>\n",
       "    <tr>\n",
       "      <th>2</th>\n",
       "      <td>192.168.1.10</td>\n",
       "      <td>192.168.1.40</td>\n",
       "      <td>5222</td>\n",
       "      <td>5222</td>\n",
       "      <td>0x6</td>\n",
       "      <td>2024-07-21 16:09:53</td>\n",
       "      <td>2024-07-21 16:43:43</td>\n",
       "      <td>1.114772</td>\n",
       "      <td>519741</td>\n",
       "      <td>1.00</td>\n",
       "      <td>...</td>\n",
       "      <td>0.282108</td>\n",
       "      <td>0.0</td>\n",
       "      <td>0.207464</td>\n",
       "      <td>0</td>\n",
       "      <td>20</td>\n",
       "      <td>33.659715</td>\n",
       "      <td>1822</td>\n",
       "      <td>2030</td>\n",
       "      <td>0</td>\n",
       "      <td>Normal</td>\n",
       "    </tr>\n",
       "    <tr>\n",
       "      <th>3</th>\n",
       "      <td>192.168.1.20</td>\n",
       "      <td>192.168.1.10</td>\n",
       "      <td>36378</td>\n",
       "      <td>36378</td>\n",
       "      <td>0x6</td>\n",
       "      <td>2024-07-21 16:10:06</td>\n",
       "      <td>2024-07-21 16:43:44</td>\n",
       "      <td>10.734043</td>\n",
       "      <td>52413</td>\n",
       "      <td>1.00</td>\n",
       "      <td>...</td>\n",
       "      <td>0.693122</td>\n",
       "      <td>0.0</td>\n",
       "      <td>0.000000</td>\n",
       "      <td>0</td>\n",
       "      <td>20</td>\n",
       "      <td>32.000000</td>\n",
       "      <td>189</td>\n",
       "      <td>2018</td>\n",
       "      <td>0</td>\n",
       "      <td>Normal</td>\n",
       "    </tr>\n",
       "    <tr>\n",
       "      <th>4</th>\n",
       "      <td>192.168.1.20</td>\n",
       "      <td>192.168.1.10</td>\n",
       "      <td>36380</td>\n",
       "      <td>36380</td>\n",
       "      <td>0x6</td>\n",
       "      <td>2024-07-21 16:10:09</td>\n",
       "      <td>2024-07-21 16:10:11</td>\n",
       "      <td>0.666667</td>\n",
       "      <td>403</td>\n",
       "      <td>0.75</td>\n",
       "      <td>...</td>\n",
       "      <td>0.250000</td>\n",
       "      <td>0.0</td>\n",
       "      <td>0.250000</td>\n",
       "      <td>0</td>\n",
       "      <td>20</td>\n",
       "      <td>34.000000</td>\n",
       "      <td>4</td>\n",
       "      <td>2</td>\n",
       "      <td>0</td>\n",
       "      <td>Normal</td>\n",
       "    </tr>\n",
       "  </tbody>\n",
       "</table>\n",
       "<p>5 rows × 21 columns</p>\n",
       "</div>"
      ],
      "text/plain": [
       "         ip_src        ip_dst  port_src  port_dst proto           start_time  \\\n",
       "0  192.168.1.10  192.168.1.20      5222      5222   0x6  2024-07-21 16:10:06   \n",
       "1  192.168.1.10  192.168.1.30      5222      5222   0x6  2024-07-21 16:10:02   \n",
       "2  192.168.1.10  192.168.1.40      5222      5222   0x6  2024-07-21 16:09:53   \n",
       "3  192.168.1.20  192.168.1.10     36378     36378   0x6  2024-07-21 16:10:06   \n",
       "4  192.168.1.20  192.168.1.10     36380     36380   0x6  2024-07-21 16:10:09   \n",
       "\n",
       "              end_time   mean_IAT  total_bytes  mean_ACK  ...  mean_PSH  \\\n",
       "0  2024-07-21 16:43:46   1.132922       513900      1.00  ...  0.299888   \n",
       "1  2024-07-21 16:43:49   1.110077       518530      1.00  ...  0.287356   \n",
       "2  2024-07-21 16:43:43   1.114772       519741      1.00  ...  0.282108   \n",
       "3  2024-07-21 16:43:44  10.734043        52413      1.00  ...  0.693122   \n",
       "4  2024-07-21 16:10:11   0.666667          403      0.75  ...  0.250000   \n",
       "\n",
       "   mean_RST  mean_SYN  mean_URG  mean_bck_header_len  mean_fwd_header_len  \\\n",
       "0       0.0  0.208520         0                   20            33.668161   \n",
       "1       0.0  0.205255         0                   20            33.642036   \n",
       "2       0.0  0.207464         0                   20            33.659715   \n",
       "3       0.0  0.000000         0                   20            32.000000   \n",
       "4       0.0  0.250000         0                   20            34.000000   \n",
       "\n",
       "   packet_count  duration  Anomaly   Label  \n",
       "0          1784      2020        0  Normal  \n",
       "1          1827      2027        0  Normal  \n",
       "2          1822      2030        0  Normal  \n",
       "3           189      2018        0  Normal  \n",
       "4             4         2        0  Normal  \n",
       "\n",
       "[5 rows x 21 columns]"
      ]
     },
     "execution_count": 17,
     "metadata": {},
     "output_type": "execute_result"
    }
   ],
   "source": [
    "df = pd.read_csv('model_input.csv')\n",
    "df.head(5)   "
   ]
  },
  {
   "cell_type": "code",
   "execution_count": 10,
   "metadata": {},
   "outputs": [
    {
     "data": {
      "text/plain": [
       "array([0, 1], dtype=int64)"
      ]
     },
     "execution_count": 10,
     "metadata": {},
     "output_type": "execute_result"
    }
   ],
   "source": [
    "df['Anomaly'].unique()"
   ]
  },
  {
   "cell_type": "code",
   "execution_count": 6,
   "metadata": {},
   "outputs": [
    {
     "data": {
      "text/plain": [
       "Index(['ip_src', 'ip_dst', 'port_src', 'port_dst', 'proto', 'start_time',\n",
       "       'end_time', 'mean_IAT', 'total_bytes', 'mean_ACK', 'mean_FIN',\n",
       "       'mean_PSH', 'mean_RST', 'mean_SYN', 'mean_URG', 'mean_bck_header_len',\n",
       "       'mean_fwd_header_len', 'packet_count', 'duration', 'Anomaly', 'Label'],\n",
       "      dtype='object')"
      ]
     },
     "execution_count": 6,
     "metadata": {},
     "output_type": "execute_result"
    }
   ],
   "source": [
    "df.columns"
   ]
  },
  {
   "cell_type": "code",
   "execution_count": 18,
   "metadata": {},
   "outputs": [],
   "source": [
    "def load_and_preprocess_data(file_path):\n",
    "    df = pd.read_csv(file_path)\n",
    "    df = df[['mean_ACK', 'mean_FIN', 'mean_PSH', 'mean_RST', 'mean_SYN', 'mean_URG',\n",
    "            'mean_bck_header_len', 'mean_fwd_header_len', 'total_bytes', 'packet_count', \n",
    "            'mean_IAT', 'Label']]\n",
    "    df = df.dropna()\n",
    "    X = df.drop('Label', axis=1)\n",
    "    y = df['Label']\n",
    "    X = pd.get_dummies(X)\n",
    "    X_train, X_test, y_train, y_test = train_test_split(X, y, test_size=0.2, random_state=42)\n",
    "    return X_train, X_test, y_train, y_test\n",
    "\n",
    "X_train, X_test, y_train, y_test = load_and_preprocess_data('model_input.csv')"
   ]
  },
  {
   "cell_type": "code",
   "execution_count": 13,
   "metadata": {},
   "outputs": [],
   "source": [
    "\n",
    "\n",
    "sm = SMOTE(random_state=42)\n",
    "X_train_res, y_train_res = sm.fit_resample(X_train, y_train)\n"
   ]
  },
  {
   "cell_type": "code",
   "execution_count": 19,
   "metadata": {},
   "outputs": [
    {
     "name": "stdout",
     "output_type": "stream",
     "text": [
      "Original dataset shape  ((208952, 11), (208952,))\n",
      "Resampled dataset shape ((521140, 11), (521140,))\n"
     ]
    }
   ],
   "source": [
    "print(f\"Original dataset shape  {X_train.shape, y_train.shape}\")\n",
    "print(f\"Resampled dataset shape {X_train_res.shape, y_train_res.shape}\")"
   ]
  },
  {
   "cell_type": "code",
   "execution_count": null,
   "metadata": {},
   "outputs": [],
   "source": []
  },
  {
   "cell_type": "code",
   "execution_count": 22,
   "metadata": {},
   "outputs": [
    {
     "name": "stdout",
     "output_type": "stream",
     "text": [
      "[[13124     0     0     2     0]\n",
      " [    0   461     0     0     0]\n",
      " [    0     0   291     0     0]\n",
      " [    0     0     0 12408     0]\n",
      " [    0     7     0     0 25945]]\n",
      "              precision    recall  f1-score   support\n",
      "\n",
      "   ACK_FLOOD       1.00      1.00      1.00     13126\n",
      "      Normal       0.99      1.00      0.99       461\n",
      "   PORT_SCAN       1.00      1.00      1.00       291\n",
      "   SYN_FLOOD       1.00      1.00      1.00     12408\n",
      "   UDP_FLOOD       1.00      1.00      1.00     25952\n",
      "\n",
      "    accuracy                           1.00     52238\n",
      "   macro avg       1.00      1.00      1.00     52238\n",
      "weighted avg       1.00      1.00      1.00     52238\n",
      "\n"
     ]
    }
   ],
   "source": [
    "from sklearn.ensemble import GradientBoostingClassifier\n",
    "\n",
    "gbc = GradientBoostingClassifier()\n",
    "\n",
    "gbc.fit(X_train_res, y_train_res)\n",
    "\n",
    "y_pred = gbc.predict(X_test)\n",
    "\n",
    "print(confusion_matrix(y_test, y_pred))\n",
    "\n",
    "print(classification_report(y_test, y_pred))\n",
    "\n",
    "\n",
    "\n"
   ]
  },
  {
   "cell_type": "code",
   "execution_count": 23,
   "metadata": {},
   "outputs": [],
   "source": [
    "\n",
    "\n",
    "import pickle\n",
    "\n",
    "filename = 'BehlSirKaModel.sav'\n",
    "pickle.dump(gbc, open(filename, 'wb'))\n",
    "\n"
   ]
  },
  {
   "cell_type": "code",
   "execution_count": 24,
   "metadata": {},
   "outputs": [
    {
     "name": "stdout",
     "output_type": "stream",
     "text": [
      "0.9998277116275508\n"
     ]
    }
   ],
   "source": [
    "\n",
    "loaded_model = pickle.load(open(filename, 'rb'))\n",
    "result = loaded_model.score(X_test, y_test)\n",
    "print(result)\n",
    "\n",
    "\n",
    "\n",
    "# y_pred = loaded_model.predict(X_test)\n"
   ]
  },
  {
   "cell_type": "code",
   "execution_count": null,
   "metadata": {},
   "outputs": [],
   "source": []
  },
  {
   "cell_type": "code",
   "execution_count": null,
   "metadata": {},
   "outputs": [],
   "source": []
  },
  {
   "cell_type": "code",
   "execution_count": null,
   "metadata": {},
   "outputs": [],
   "source": []
  },
  {
   "cell_type": "code",
   "execution_count": null,
   "metadata": {},
   "outputs": [],
   "source": []
  }
 ],
 "metadata": {
  "kernelspec": {
   "display_name": "Python 3",
   "language": "python",
   "name": "python3"
  },
  "language_info": {
   "codemirror_mode": {
    "name": "ipython",
    "version": 3
   },
   "file_extension": ".py",
   "mimetype": "text/x-python",
   "name": "python",
   "nbconvert_exporter": "python",
   "pygments_lexer": "ipython3",
   "version": "3.12.4"
  }
 },
 "nbformat": 4,
 "nbformat_minor": 2
}
