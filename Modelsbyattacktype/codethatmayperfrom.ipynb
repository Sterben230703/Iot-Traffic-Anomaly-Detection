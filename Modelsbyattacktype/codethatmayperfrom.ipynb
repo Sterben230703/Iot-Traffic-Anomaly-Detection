{
 "cells": [
  {
   "cell_type": "markdown",
   "metadata": {},
   "source": [
    "### Decision Tree for mirai Ackflooding\n"
   ]
  },
  {
   "cell_type": "code",
   "execution_count": null,
   "metadata": {},
   "outputs": [],
   "source": [
    "from sklearn.tree import DecisionTreeClassifier\n",
    "from sklearn.model_selection import cross_val_score, KFold\n",
    "\n",
    "# Define the features and target variable\n",
    "X = final_1.drop('Label', axis=1)\n",
    "y = final_1['Label']\n",
    "\n",
    "# Create a decision tree classifier\n",
    "clf = DecisionTreeClassifier()\n",
    "\n",
    "# Fit the classifier with the training data\n",
    "clf.fit(X, y)\n",
    "from sklearn.metrics import roc_auc_score, roc_curve, accuracy_score, confusion_matrix\n",
    "import matplotlib.pyplot as plt\n",
    "\n",
    "# Define the features and target variable\n",
    "X = final_1.drop('Label', axis=1)\n",
    "y = final_1['Label']\n",
    "\n",
    "# Create a decision tree classifier\n",
    "clf = DecisionTreeClassifier()\n",
    "\n",
    "# Perform k-fold cross-validation\n",
    "k = 10\n",
    "kf = KFold(n_splits=k, shuffle=True)\n",
    "accuracy_scores = cross_val_score(clf, X, y, cv=kf, scoring='accuracy')\n",
    "roc_auc_scores = cross_val_score(clf, X, y, cv=kf, scoring='roc_auc')\n",
    "\n",
    "# Print accuracy and ROC AUC scores\n",
    "accuracy = accuracy_scores.mean()\n",
    "roc_auc = roc_auc_scores.mean()\n",
    "print(\"Accuracy:\", accuracy)\n",
    "print(\"ROC AUC:\", roc_auc)\n",
    "\n",
    "# Plot ROC AUC curve\n",
    "fpr, tpr, thresholds = roc_curve(y, clf.predict_proba(X)[:, 1])\n",
    "plt.plot(fpr, tpr)\n",
    "plt.xlabel('False Positive Rate')\n",
    "plt.ylabel('True Positive Rate')\n",
    "plt.title('ROC AUC Curve')\n",
    "plt.show()\n",
    "\n",
    "# Plot confusion matrix\n",
    "confusion_mat = confusion_matrix(y, clf.predict(X))\n",
    "plt.imshow(confusion_mat, cmap='Blues')\n",
    "plt.title('Confusion Matrix')\n",
    "plt.colorbar()\n",
    "plt.xlabel('Predicted Label')\n",
    "plt.ylabel('True Label')\n",
    "plt.show()\n"
   ]
  }
 ],
 "metadata": {
  "language_info": {
   "name": "python"
  }
 },
 "nbformat": 4,
 "nbformat_minor": 2
}
