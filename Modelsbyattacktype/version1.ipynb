{
 "cells": [
  {
   "cell_type": "code",
   "execution_count": null,
   "metadata": {},
   "outputs": [],
   "source": [
    "import os\n",
    "import pandas as pd\n",
    "\n",
    "def merge_csv_files(input_directory, output_file):\n",
    "    # Get a list of all CSV files in the input directory\n",
    "    csv_files = [f for f in os.listdir(input_directory) if f.endswith('.csv')]\n",
    "    \n",
    "    if not csv_files:\n",
    "        print(\"No CSV files found in the specified directory.\")\n",
    "        return\n",
    "    \n",
    "    # Read and combine all CSV files\n",
    "    combined_df = pd.concat([pd.read_csv(os.path.join(input_directory, f)) for f in csv_files], ignore_index=True)\n",
    "    \n",
    "    # Write the combined dataframe to a new CSV file\n",
    "    combined_df.to_csv(output_file, index=False)\n",
    "    \n",
    "    print(f\"Successfully merged {len(csv_files)} CSV files into {output_file}\")\n",
    "\n",
    "# Example usage\n",
    "# merge_csv_files('/path/to/input/directory', 'output.csv')"
   ]
  }
 ],
 "metadata": {
  "language_info": {
   "name": "python"
  }
 },
 "nbformat": 4,
 "nbformat_minor": 2
}
